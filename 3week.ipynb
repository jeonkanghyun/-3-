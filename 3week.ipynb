{
  "nbformat": 4,
  "nbformat_minor": 0,
  "metadata": {
    "colab": {
      "name": "3week.ipynb",
      "provenance": [],
      "collapsed_sections": [],
      "authorship_tag": "ABX9TyNk50TvWqa49l2FbZODvw55",
      "include_colab_link": true
    },
    "kernelspec": {
      "name": "python3",
      "display_name": "Python 3"
    },
    "language_info": {
      "name": "python"
    }
  },
  "cells": [
    {
      "cell_type": "markdown",
      "metadata": {
        "id": "view-in-github",
        "colab_type": "text"
      },
      "source": [
        "<a href=\"https://colab.research.google.com/github/jeonkanghyun/-3-/blob/main/3week.ipynb\" target=\"_parent\"><img src=\"https://colab.research.google.com/assets/colab-badge.svg\" alt=\"Open In Colab\"/></a>"
      ]
    },
    {
      "cell_type": "code",
      "execution_count": 1,
      "metadata": {
        "id": "qGWbUMgBmy7F",
        "colab": {
          "base_uri": "https://localhost:8080/"
        },
        "outputId": "f71bf72e-64ad-4adb-e589-d8db8504d532"
      },
      "outputs": [
        {
          "output_type": "stream",
          "name": "stdout",
          "text": [
            "4\n"
          ]
        }
      ],
      "source": [
        "import math\n",
        "\n",
        "ceil_result = math.ceil(3.14)\n",
        "print(ceil_result)"
      ]
    },
    {
      "cell_type": "code",
      "source": [
        "x = int(input())\n",
        "y = int(input())\n",
        "\n",
        "print(x)\n",
        "print(y)\n"
      ],
      "metadata": {
        "colab": {
          "base_uri": "https://localhost:8080/"
        },
        "id": "ewJ9udm8_HZo",
        "outputId": "f6a36379-6c36-4c3c-fecd-74f73bb3fe40"
      },
      "execution_count": 2,
      "outputs": [
        {
          "output_type": "stream",
          "name": "stdout",
          "text": [
            "25\n",
            "31\n",
            "25\n",
            "31\n"
          ]
        }
      ]
    },
    {
      "cell_type": "code",
      "source": [
        "x = int(input())\n",
        "y = int(input())\n",
        "\n",
        "print(x+y)\n",
        "print(x/y)\n",
        "print(x%y)"
      ],
      "metadata": {
        "colab": {
          "base_uri": "https://localhost:8080/"
        },
        "id": "up5VwRZuC2NP",
        "outputId": "c7dc1897-ed8a-49b4-c502-a63aca51f36d"
      },
      "execution_count": 14,
      "outputs": [
        {
          "output_type": "stream",
          "name": "stdout",
          "text": [
            "100\n",
            "50\n",
            "150\n",
            "2.0\n",
            "0\n"
          ]
        }
      ]
    },
    {
      "cell_type": "code",
      "source": [
        "poeple = int(input())\n",
        "sj = int(input())\n",
        "mj = int(input())\n",
        "hbc = int(input())\n",
        "mnoodle = int(input())\n",
        "bbnoodle = int(input())\n",
        "\n",
        "mount = int(3000*sj+3000*mj+12000*hbc+4000*mnoodle+4000*bbnoodle)\n",
        "\n",
        "print(f'{int(mount//poeple)}원')"
      ],
      "metadata": {
        "colab": {
          "base_uri": "https://localhost:8080/"
        },
        "id": "4APCuW9_FufO",
        "outputId": "c20e79a8-401e-48aa-bca3-650731729e0a"
      },
      "execution_count": 12,
      "outputs": [
        {
          "output_type": "stream",
          "name": "stdout",
          "text": [
            "5\n",
            "8\n",
            "4\n",
            "2\n",
            "1\n",
            "1\n",
            "13600원\n"
          ]
        }
      ]
    },
    {
      "cell_type": "code",
      "source": [
        ""
      ],
      "metadata": {
        "id": "Udn4YPc4IXac"
      },
      "execution_count": null,
      "outputs": []
    },
    {
      "cell_type": "code",
      "source": [
        "x = int(input())\n",
        "\n",
        "\n",
        "print(f'입력 정수는 {x} 실수는 {float(x)}')"
      ],
      "metadata": {
        "colab": {
          "base_uri": "https://localhost:8080/"
        },
        "id": "5m8J5uC6_sdQ",
        "outputId": "4b4be254-5cfb-4221-b883-f383f7a8ddaf"
      },
      "execution_count": 4,
      "outputs": [
        {
          "output_type": "stream",
          "name": "stdout",
          "text": [
            "11\n",
            "입력 정수는 11 실수는 11.0\n"
          ]
        }
      ]
    }
  ]
}